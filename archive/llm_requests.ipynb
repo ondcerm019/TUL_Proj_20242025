{
 "cells": [
  {
   "cell_type": "code",
   "execution_count": 2,
   "metadata": {},
   "outputs": [],
   "source": [
    "#imports\n",
    "\n",
    "from openai import OpenAI\n",
    "from groq import Groq\n",
    "\n",
    "from text_file_extraction import read_text_chars\n",
    "from output_conversion import parse_tagged_text, object_to_json, reconstruct_text, append_json_string_to_file, correct_object_and_get_reverse_index\n",
    "from text_changes_check import text_changes_check\n",
    "\n",
    "from constants import TAGS, \\\n",
    "    TEMPERATURE, \\\n",
    "    GROQ_API_KEY, METACENTRUM_API_KEY\n",
    "    # INPUT_TEXT_TEMP_FILE, OUTPUT_TEXT_TEMP_FILE, OUTPUT_PROCESSED_TEMP_FILE, OUTPUT_RECONSTRUCTED_FILE\n",
    "    \n",
    "\n"
   ]
  },
  {
   "cell_type": "code",
   "execution_count": null,
   "metadata": {},
   "outputs": [],
   "source": [
    "\n",
    "\n",
    "\n",
    "input_text, count = read_text_chars(\\\n",
    "        r\"C:\\Users\\ondat\\OneDrive\\Plocha\\textdump\\nejvyssi-spravni-soud-usneseni.txt.utf8\",\\\n",
    "        0, 1000)\n",
    "\n",
    "\n",
    "chat_prompt = [\n",
    "    {\n",
    "        \"role\": \"system\",\n",
    "        \"content\": f\"\"\"\n",
    "        You are an assistant tasked with classifying words and phrases into categories of personal data. \n",
    "        The input text will be in the Czech language, and it may contain various word combinations such as full names, addresses, phone numbers, and more.\n",
    "\n",
    "        Your task is to identify and wrap these sections with <tags> that represent one of the following categories:\n",
    "        - <{TAGS[\"PERSONAL_NAME\"]}> for names of people, including first and last names, and professional titles such as Ing., JUDr., etc.\n",
    "        - <{TAGS[\"INSTITUTION\"]}> for names of government, political, cultural, educational or scientific institutions\n",
    "        - <{TAGS[\"COMPANY\"]}> for company names\n",
    "        - <{TAGS[\"LOCATION\"]}> for place names (e.g., cities, streets, etc.)\n",
    "        - <{TAGS[\"DATE\"]}> for dates\n",
    "        - <{TAGS[\"ZIPCODE\"]}> for 5-digit Czech postal codes (e.g., \"123 45\")\n",
    "        - <{TAGS[\"PHONE\"]}> for phone numbers\n",
    "        - <{TAGS[\"EMAIL\"]}> for email addresses\n",
    "        - <{TAGS[\"CASE_NUMBER\"]}> for court case numbers (číslo jednací, č. j.)\n",
    "\n",
    "        Non-relevant text should not be tagged.\n",
    "        Make sure that tags are closed before another tag starts. In case of category overlap, apply the most relevant one.\n",
    "\n",
    "        Example Input:\n",
    "        Here is some text. Jan Novák, Ing., works at XYZ Company and can be reached at jan.novak@example.com +420 123 456 789. More information is available.\n",
    "        Example Output:\n",
    "        Here is some text. <pname>Jan Novák, Ing.</pname>, works at <company>XYZ Company</company> and can be reached at <email>jan.novak@example.com</email> <phone>+420 123 456 789</phone>. More information is available.\n",
    "\n",
    "        Return only the original text with the added tags and no additional text or explanations.\n",
    "        \"\"\"\n",
    "    },\n",
    "    {\n",
    "        \"role\": \"user\",\n",
    "        \"content\": input_text\n",
    "    }\n",
    "]\n",
    "\n",
    "\n"
   ]
  },
  {
   "cell_type": "code",
   "execution_count": null,
   "metadata": {},
   "outputs": [],
   "source": [
    "#groq\n",
    "# client = Groq(api_key=GROQ_API_KEY)\n",
    "\n",
    "# response = client.chat.completions.create(\n",
    "#     messages=chat_prompt,\n",
    "#     model=\"llama-3.3-70b-versatile\",\n",
    "#     temperature=TEMPERATURE\n",
    "# )\n",
    "\n",
    "\n"
   ]
  },
  {
   "cell_type": "code",
   "execution_count": 4,
   "metadata": {},
   "outputs": [],
   "source": [
    "#metacentrum\n",
    "# client = OpenAI(api_key=METACENTRUM_API_KEY, base_url=\"https://chat.ai.e-infra.cz/api\")\n",
    "\n",
    "# response = client.chat.completions.create(\n",
    "#     messages=chat_prompt,\n",
    "#     model=\"llama3.3:latest\",\n",
    "#     temperature=TEMPERATURE\n",
    "# )\n",
    "\n"
   ]
  },
  {
   "cell_type": "code",
   "execution_count": null,
   "metadata": {},
   "outputs": [],
   "source": [
    "# position_count = 0\n",
    "# reverse_index = 0\n",
    "\n",
    "# added_counter = 0\n",
    "# removed_counter = 0\n",
    "# # diff scope\n",
    "\n",
    "# response_content = response.choices[0].message.content\n",
    "\n",
    "# response_parsed_object = parse_tagged_text(response_content)\n",
    "\n",
    "# reverse_index = correct_object_and_get_reverse_index(response_parsed_object)\n",
    "# #---parsed-object-is-now-modified-by-correct_object_and_get_reverse_index---\n",
    "# response_json = object_to_json(response_parsed_object)\n",
    "\n",
    "# append_json_string_to_file(response_json)\n",
    "\n",
    "# #---changes-print---\n",
    "# reconstructed_text = reconstruct_text(response_parsed_object)\n",
    "# added, removed = text_changes_check(input_text, reconstructed_text)\n",
    "# added_counter += added\n",
    "# removed_counter += removed\n",
    "# print(f\"Added: {added} (Total: {added_counter}), Removed: {removed} (Total: {removed_counter})\")"
   ]
  },
  {
   "cell_type": "code",
   "execution_count": null,
   "metadata": {},
   "outputs": [
    {
     "name": "stdout",
     "output_type": "stream",
     "text": [
      "\n",
      "        You are an assistant tasked with classifying words and phrases into categories of personal data. \n",
      "        The input text will be in the Czech language, and it may contain various word combinations such as full names, addresses, phone numbers, and more.\n",
      "\n",
      "        Your task is to identify and wrap these sections with <tags> that represent one of the following categories:\n",
      "        - <pname> for names of people, including first and last names,             and professional titles such as Ing., JUDr., etc.\n",
      "        - <institution> for names of government, political, cultural,             educational or scientific institutions\n",
      "        - <company> for company names\n",
      "        - <location> for place names (e.g., cities, streets, etc.)\n",
      "        - <date> for dates\n",
      "        - <zipcode> for 5-digit Czech postal codes (e.g., \"123 45\")\n",
      "        - <phone> for phone numbers\n",
      "        - <email> for email addresses\n",
      "        - <cj> for court case numbers (číslo jednací, č. j.)\n",
      "\n",
      "        Non-relevant text should not be tagged.\n",
      "        Make sure that tags are closed before another tag starts. In case of category overlap, apply the most relevant one.\n",
      "\n",
      "        Example Input:\n",
      "        Here is some text. Jan Novák, Ing., works at XYZ Company and can be reached at jan.novak@example.com +420 123 456 789. More information is available.\n",
      "        Example Output:\n",
      "        Here is some text. <pname>Jan Novák, Ing.</pname>, works at <company>XYZ Company</company> and can be reached at <email>jan.novak@example.com</email> <phone>+420 123 456 789</phone>. More information is available.\n",
      "\n",
      "        Return only the original text with the added tags and no additional text or explanations.\n",
      "        \n"
     ]
    }
   ],
   "source": [
    "# response_content = response.choices[0].message.content\n",
    "\n",
    "# with (\n",
    "#     open(INPUT_TEXT_TEMP_FILE, 'w', encoding='utf-8') as input_text_file,\n",
    "#     open(OUTPUT_TEXT_TEMP_FILE, 'w', encoding='utf-8') as output_text_file,\n",
    "#     ):\n",
    "#     input_text_file.write(input_text)\n",
    "#     output_text_file.write(response_content)\n"
   ]
  },
  {
   "cell_type": "code",
   "execution_count": null,
   "metadata": {},
   "outputs": [],
   "source": [
    "# # temp\n",
    "\n",
    "# with (\n",
    "#     open(OUTPUT_TEXT_TEMP_FILE, 'r', encoding='utf-8') as output_text_file,\n",
    "#     open(OUTPUT_PROCESSED_TEMP_FILE, 'w', encoding='utf-8') as output_proc_text_file,\n",
    "#     open(OUTPUT_RECONSTRUCTED_FILE, 'w', encoding='utf-8') as output_recon_text_file\n",
    "#     ):\n",
    "#     response_content = output_text_file.read()\n",
    "#     temp = parse_tagged_text(response_content)\n",
    "#     output_proc_text_file.write(object_to_json(temp))\n",
    "#     output_recon_text_file.write(reconstruct_text(temp))"
   ]
  },
  {
   "cell_type": "code",
   "execution_count": null,
   "metadata": {},
   "outputs": [
    {
     "ename": "NameError",
     "evalue": "name 'INPUT_TEXT_TEMP_FILE' is not defined",
     "output_type": "error",
     "traceback": [
      "\u001b[31m---------------------------------------------------------------------------\u001b[39m",
      "\u001b[31mNameError\u001b[39m                                 Traceback (most recent call last)",
      "\u001b[36mCell\u001b[39m\u001b[36m \u001b[39m\u001b[32mIn[1]\u001b[39m\u001b[32m, line 2\u001b[39m\n\u001b[32m      1\u001b[39m \u001b[38;5;28;01mwith\u001b[39;00m (\n\u001b[32m----> \u001b[39m\u001b[32m2\u001b[39m     \u001b[38;5;28mopen\u001b[39m(\u001b[43mINPUT_TEXT_TEMP_FILE\u001b[49m, \u001b[33m'\u001b[39m\u001b[33mr\u001b[39m\u001b[33m'\u001b[39m, encoding=\u001b[33m'\u001b[39m\u001b[33mutf-8\u001b[39m\u001b[33m'\u001b[39m) \u001b[38;5;28;01mas\u001b[39;00m input_text_file,\n\u001b[32m      3\u001b[39m     \u001b[38;5;28mopen\u001b[39m(OUTPUT_RECONSTRUCTED_FILE, \u001b[33m'\u001b[39m\u001b[33mr\u001b[39m\u001b[33m'\u001b[39m, encoding=\u001b[33m'\u001b[39m\u001b[33mutf-8\u001b[39m\u001b[33m'\u001b[39m) \u001b[38;5;28;01mas\u001b[39;00m output_recon_text_file\n\u001b[32m      4\u001b[39m     ):\n\u001b[32m      6\u001b[39m     \u001b[38;5;28mprint\u001b[39m(text_changes_check(input_text_file.read(), output_recon_text_file.read()))\n",
      "\u001b[31mNameError\u001b[39m: name 'INPUT_TEXT_TEMP_FILE' is not defined"
     ]
    }
   ],
   "source": [
    "# with (\n",
    "#     open(INPUT_TEXT_TEMP_FILE, 'r', encoding='utf-8') as input_text_file,\n",
    "#     open(OUTPUT_RECONSTRUCTED_FILE, 'r', encoding='utf-8') as output_recon_text_file\n",
    "#     ):\n",
    "\n",
    "#     print(text_changes_check(input_text_file.read(), output_recon_text_file.read()))"
   ]
  }
 ],
 "metadata": {
  "kernelspec": {
   "display_name": "Python 3",
   "language": "python",
   "name": "python3"
  },
  "language_info": {
   "codemirror_mode": {
    "name": "ipython",
    "version": 3
   },
   "file_extension": ".py",
   "mimetype": "text/x-python",
   "name": "python",
   "nbconvert_exporter": "python",
   "pygments_lexer": "ipython3",
   "version": "3.13.2"
  }
 },
 "nbformat": 4,
 "nbformat_minor": 2
}
